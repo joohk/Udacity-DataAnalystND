{
 "cells": [
  {
   "cell_type": "markdown",
   "metadata": {},
   "source": [
    "# OpenStreetMap Data Wrangling for Hampton Roads Virginia\n",
    "Paulo Black  \n",
    "Map Area: Hampton Roads, Virginia, U.S.A.\n",
    "\n",
    "A link to the area covered:  \n",
    "https://www.openstreetmap.org/search?query=hampton%20roads#map=9/36.9707/-76.1284  \n",
    "A link to download the OSM file I used:  \n",
    "https://s3.amazonaws.com/metro-extracts.mapzen.com/hampton-roads_virginia.osm.bz2\n"
   ]
  },
  {
   "cell_type": "markdown",
   "metadata": {},
   "source": [
    "This notebook contains an examination of geographical data of the Hampton Roads, Virginia (HRVA) area taken from OpenStreetMap's XML export tool that I have cleaned in Python, imported to mongoDB and performed a number of simple analyses on. I began the investigation by testing a sample area much smaller than the total area to see if there would be any syntax or format issues that would require wrangling. After uploading the data to MongoDB I spent some time familiarizing myself with the dataset, finding basic statistics, and then looking at a few more specific stats. I listed some of my findings below!\n",
    "\n",
    "I grew up in HRVA and used to live in the sample area where I did the provisional data wrangling. It was really good fun getting to see the names of all the old places I used to hang out as a kid while I did the exercise!"
   ]
  },
  {
   "cell_type": "markdown",
   "metadata": {},
   "source": [
    "## Contents  \n",
    "[Problems requiring wrangling](#problems)   \n",
    "[Data Overview](#overview)  \n",
    "[General information from the data set](#geninf)  \n",
    "[Analysis of users](#users)  \n",
    "[Conclusion](#conclusion)\n"
   ]
  },
  {
   "cell_type": "markdown",
   "metadata": {},
   "source": [
    "## Problems requiring wrangling\n",
    "<a id='problems'></a>"
   ]
  },
  {
   "cell_type": "markdown",
   "metadata": {},
   "source": [
    "Fortunately for me, there were relatively few errors or formatting mismatches in the data. I expected the postcodes and street names to be a mess, but as we will see later, the majority of contributed user information comes from relatively few bots whose owners have clearly taken time to communicate with one another. I did choose to reformat several of the entries into smaller subdictionaries for the sake of the exercise, such as adding all address information to a subdictionary 'address' and putting latitude and longitude coordinates together in an array.\n",
    "\n",
    "When dealing with the address, however, I came across the prefix \"gnis\" in more than half of the entries, which initially threw me for a loop. After some quick googling I learned that this is the USGS Geographic Names Information System which the bots must have accessed frequently with the exception of a minority. I added some steps in the wrangling process to deal with these entries.\n",
    "\n",
    "Unfortunately, there was also one major formatting error, specifically in the Cities dictionary. Several cities appeared three different ways: Chesapeake, CHESAPEAKE and Chesapeake (city). \n",
    "\n",
    "Here are a few examples (I've excluded some intermediate entries for clarity):  \n",
    "{ \"_id\" : \"Virginia Beach\", \"count\" : 121589 }   \n",
    "{ \"_id\" : \"Newport News\", \"count\" : 51198 }    \n",
    "{ \"_id\" : \"Chesapeake\", \"count\" : 46033 }  \n",
    "{ \"_id\" : \"CHESAPEAKE\", \"count\" : 260 }  \n",
    "{ \"_id\" : \"Norfolk\", \"count\" : 154 }  \n",
    "{ \"_id\" : \"Virginia Beach (city)\", \"count\" : 150 }  \n",
    "{ \"_id\" : \"Suffolk (city)\", \"count\" : 122 }  \n",
    "{ \"_id\" : \"Norfolk (city)\", \"count\" : 107 }  \n",
    "{ \"_id\" : \"Chesapeake (city)\", \"count\" : 81 }  \n",
    "\n",
    "This was readily dealt with through some more wrangling and we can see a much nicer final print out:\n",
    "\n",
    "{ \"_id\" : \"Virginia Beach\", \"count\" : 121739 }  \n",
    "{ \"_id\" : \"Hampton\", \"count\" : 57937 }  \n",
    "{ \"_id\" : \"Newport News\", \"count\" : 51247 }  \n",
    "{ \"_id\" : \"Chesapeake\", \"count\" : 46374 }  \n",
    "{ \"_id\" : \"Suffolk\", \"count\" : 28781 }  \n",
    "{ \"_id\" : \"York County\", \"count\" : 17321 }  \n",
    "{ \"_id\" : \"Poquoson\", \"count\" : 5979 }  \n",
    "{ \"_id\" : \"Norfolk\", \"count\" : 279 }  \n",
    "{ \"_id\" : \"Scappoose\", \"count\" : 176 }  "
   ]
  },
  {
   "cell_type": "markdown",
   "metadata": {
    "collapsed": true
   },
   "source": [
    "I expected the street names to be in a horrific state of affairs based on the amount of time the Udacity lessons spent covering street name auditing, so I was over the moon to find out that I couldn't find a single weirdly formatted street name whether I sorted in ascending or descending order through my provisional data or my larger data set.\n"
   ]
  },
  {
   "cell_type": "markdown",
   "metadata": {},
   "source": [
    "## Data Overview\n",
    "<a id='overview'></a>\n",
    "\n",
    "Some basic info from the dataset I pulled with MongoDB"
   ]
  },
  {
   "cell_type": "code",
   "execution_count": null,
   "metadata": {
    "collapsed": true
   },
   "outputs": [],
   "source": [
    "#File Sizes\n",
    "$ls -lh\n",
    "-rw-r--r--@ 1 pauloblack  staff   1.0G Apr  5 11:43 hrva.osm\n",
    "-rw-r--r--  1 pauloblack  staff   1.1G Apr  5 14:40 hrva.osm.json\n",
    "#I picked up a fatty! I did not use pretty print in the JSON file so it is comparably large.    \n",
    "    \n",
    "#Number of documents:\n",
    "> db.hrva.find().count()\n",
    "5041659\n",
    "\n",
    "#Number of nodes\n",
    "> db.hrva.find({'type':'node'}).count()\n",
    "4470090\n",
    "\n",
    "#Number of ways\n",
    "> db.hrva.find({'type':'way'}).count()\n",
    "571569\n",
    "\n",
    "#Number of unique users\n",
    "> db.hrva.distinct('created.user').length\n",
    "6358\n",
    "\n",
    "#Number of users with only one entry\n",
    "> db.hrva.aggregate([{\"$group\":{\"_id\":\"$created.user\", \"count\":{\"$sum\":1}}}, \n",
    "                     {\"$group\":{\"_id\":\"$count\", \"num_users\":{\"$sum\":1}}}, {\"$sort\":{\"_id\":1}}, {\"$limit\":1}])\n",
    "{ \"_id\" : 1, \"num_users\" : 2184 }\n",
    "#Quite a few!\n",
    "\n"
   ]
  },
  {
   "cell_type": "code",
   "execution_count": null,
   "metadata": {
    "collapsed": true
   },
   "outputs": [],
   "source": [
    "db.hrva.aggregate([{\"$match\":{\"address.city\":{\"$exists\":1}}}, {\"$group\":{\"_id\":\"$address.city\", \n",
    "                    \"count\":{\"$sum\":1}}}, {\"$sort\":{\"count\":-1}}])"
   ]
  },
  {
   "cell_type": "markdown",
   "metadata": {},
   "source": [
    "## General information from the data set.\n",
    "<a id='geninf'></a>"
   ]
  },
  {
   "cell_type": "markdown",
   "metadata": {
    "collapsed": true
   },
   "source": [
    "Most prolific users:"
   ]
  },
  {
   "cell_type": "code",
   "execution_count": 3,
   "metadata": {
    "collapsed": false
   },
   "outputs": [],
   "source": [
    "> db.hrva.aggregate([{'$group':{'_id':'$created.user', 'count' : {'$sum': 1}}},{'$sort' : {'count' : -1}}])"
   ]
  },
  {
   "cell_type": "markdown",
   "metadata": {},
   "source": [
    "{ \"_id\" : \"Jonah Adkins\", \"count\" : 1725557 }  \n",
    "{ \"_id\" : \"jonahadkins_vabeach_imports\", \"count\" : 1326536 }  \n",
    "{ \"_id\" : \"jonahadkins_hampton_imports\", \"count\" : 520208 }  \n",
    "{ \"_id\" : \"woodpeck_fixbot\", \"count\" : 319978 }  \n",
    "{ \"_id\" : \"jonahadkins_suffolk_import\", \"count\" : 319893 }  \n",
    "{ \"_id\" : \"jonahadkins_yorkcounty_import\", \"count\" : 185658 }  \n",
    "{ \"_id\" : \"CynicalDooDad\", \"count\" : 106179 }  \n",
    "{ \"_id\" : \"jumbanho\", \"count\" : 62708 }  \n",
    "{ \"_id\" : \"RoadGeek_MD99\", \"count\" : 61092 }  "
   ]
  },
  {
   "cell_type": "markdown",
   "metadata": {},
   "source": [
    "Most populated zip codes. I used to live in 23465! Glad to see my neighbors repping!"
   ]
  },
  {
   "cell_type": "code",
   "execution_count": null,
   "metadata": {
    "collapsed": true
   },
   "outputs": [],
   "source": [
    "> db.hrva.aggregate([{'$group':{'_id':'$address.postcode', 'count' : {'$sum': 1}}},{'$sort' : {'count' : -1}}]"
   ]
  },
  {
   "cell_type": "markdown",
   "metadata": {},
   "source": [
    "{\"_id\" : \"23464\", \"count\" : 22339 }  \n",
    "{ \"_id\" : \"23666\", \"count\" : 18569 }  \n",
    "{ \"_id\" : \"23452\", \"count\" : 18291 }  \n",
    "{ \"_id\" : \"23456\", \"count\" : 18127 }  \n",
    "{ \"_id\" : \"23454\", \"count\" : 17965 }  \n",
    "{ \"_id\" : \"23669\", \"count\" : 17467 }  \n",
    "{ \"_id\" : \"23434\", \"count\" : 16366 }  "
   ]
  },
  {
   "cell_type": "markdown",
   "metadata": {},
   "source": [
    "Most popular cuisines. A standard East Coast fare."
   ]
  },
  {
   "cell_type": "code",
   "execution_count": null,
   "metadata": {
    "collapsed": true
   },
   "outputs": [],
   "source": [
    "> db.hrva.aggregate([{\"$match\":{\"amenity\":{\"$exists\":1}, \"amenity\":\"restaurant\"}}, {\"$group\":{\"_id\":\"$cuisine\",\n",
    "                    \"count\":{\"$sum\":1}}},        {\"$sort\":{\"count\":-1}}])"
   ]
  },
  {
   "cell_type": "markdown",
   "metadata": {},
   "source": [
    "{ \"_id\" : \"american\", \"count\" : 19 }  \n",
    "{ \"_id\" : \"pizza\", \"count\" : 15 }  \n",
    "{ \"_id\" : \"italian\", \"count\" : 12 }  \n",
    "{ \"_id\" : \"seafood\", \"count\" : 12 }  \n",
    "{ \"_id\" : \"mexican\", \"count\" : 12 }  "
   ]
  },
  {
   "cell_type": "markdown",
   "metadata": {},
   "source": [
    "Most popular overall amenities. Gotta put your car somewhere."
   ]
  },
  {
   "cell_type": "code",
   "execution_count": null,
   "metadata": {
    "collapsed": true
   },
   "outputs": [],
   "source": [
    "db.hrva.aggregate([{\"$match\":{\"amenity\":{\"$exists\":1}}}, {\"$group\":{\"_id\":\"$amenity\",\n",
    "                    \"count\":{\"$sum\":1}}}, {\"$sort\":{\"count\":-1}}])"
   ]
  },
  {
   "cell_type": "markdown",
   "metadata": {},
   "source": [
    "{ \"_id\" : \"parking\", \"count\" : 5877 }  \n",
    "{ \"_id\" : \"place_of_worship\", \"count\" : 1161 }  \n",
    "{ \"_id\" : \"school\", \"count\" : 694 }  \n",
    "{ \"_id\" : \"restaurant\", \"count\" : 456 }  \n",
    "{ \"_id\" : \"fast_food\", \"count\" : 352 }  \n",
    "{ \"_id\" : \"fuel\", \"count\" : 264 }  \n",
    "{ \"_id\" : \"bank\", \"count\" : 146 }  \n",
    "{ \"_id\" : \"fountain\", \"count\" : 93 }  \n",
    "{ \"_id\" : \"grave_yard\", \"count\" : 69 }  \n",
    "{ \"_id\" : \"pharmacy\", \"count\" : 64 }  "
   ]
  },
  {
   "cell_type": "markdown",
   "metadata": {},
   "source": [
    "More graveyards than pharmacies, more churches than schools... time to get out of dodge..."
   ]
  },
  {
   "cell_type": "markdown",
   "metadata": {
    "collapsed": true
   },
   "source": [
    "## Analysis of Users\n",
    "<a id='users'></a>\n",
    "\n",
    "Following tradition I poked around with the user statistics"
   ]
  },
  {
   "cell_type": "code",
   "execution_count": null,
   "metadata": {
    "collapsed": true
   },
   "outputs": [],
   "source": [
    "#Top user Jonah Adkins contributed 32% of all info. But that's not the whole story, jonah_adkins shows up in several\n",
    "#other entries for different cities within the region. If we consider all of them together we see that all bots \n",
    "#(presumably) under Jonah Adkins contributed 81%. A whopper!\n",
    "\n",
    "#Considering the jonah_adkin's entries only make up 50% of the top 10 out of 6358 users, it's fair to assert that \n",
    "#we'll find the usual distribution of power in the 1%\n",
    "\n",
    "#Top 1% of users (64) (this one was a doozie to figure out)\n",
    "> db.hrva.aggregate([{\"$group\":{\"_id\":\"$created.user\", \"count\":{\"$sum\":1}}}, \n",
    "                     {\"$sort\":{\"count\":-1}}, {\"$limit\":64}, {'$group':{'_id':null,\"total\":{'$sum':'$count'}}}])\n",
    "{ \"_id\" : null, \"total\" : 4932661 }\n",
    "#So 97.8% percent of the datawealth is input by the automated 1% elite. Not quite up to Occupy standards but still\n",
    "#enough to spur us organic masses to action lest our cartographers be run out of business by these perfidious \n",
    "#data wrangle ready robots"
   ]
  },
  {
   "cell_type": "markdown",
   "metadata": {
    "collapsed": true
   },
   "source": [
    "## Conclusion\n",
    "<a id='conclusion'></a>\n",
    "I'm pleasantly surprised with how thoroughly the HRVA OSM is maintained. The entries seem to be routine and relatively homogenous, all things considered. That said, I think I've cleaned the data and examined some basic statistics in such a fashion that the data is left open-ended for more vigorous analysis if desired. I did notice a few of my favorite new restaurants are missing, and Norfolk is significantly under-represented for it's size. I'd chalk this up to the main contributors all seeming to be bots with references to cities other than Norfolk in their titles, and presumably the bulk of the data collection was done quite some time ago. Finally, in the example document provided for the Udacity project, I noticed the top two contributors for Charlotte, NC were 'jumbanho' and 'woodpeck_fixbot'. I imagine they are region wide bots and probably cover an area even larger than the 500 or so miles between Charlotte and HRVA. I'm glad our local hero Jonah Adkins managed to outdo those outsiders and keep HRVA pride in tact!"
   ]
  }
 ],
 "metadata": {
  "kernelspec": {
   "display_name": "Python 2",
   "language": "python",
   "name": "python2"
  },
  "language_info": {
   "codemirror_mode": {
    "name": "ipython",
    "version": 2
   },
   "file_extension": ".py",
   "mimetype": "text/x-python",
   "name": "python",
   "nbconvert_exporter": "python",
   "pygments_lexer": "ipython2",
   "version": "2.7.11"
  }
 },
 "nbformat": 4,
 "nbformat_minor": 0
}
